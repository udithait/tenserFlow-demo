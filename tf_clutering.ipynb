{
  "nbformat": 4,
  "nbformat_minor": 0,
  "metadata": {
    "colab": {
      "name": "tf clutering.ipynb",
      "version": "0.3.2",
      "provenance": [],
      "include_colab_link": true
    },
    "kernelspec": {
      "name": "python3",
      "display_name": "Python 3"
    }
  },
  "cells": [
    {
      "cell_type": "markdown",
      "metadata": {
        "id": "view-in-github",
        "colab_type": "text"
      },
      "source": [
        "<a href=\"https://colab.research.google.com/github/udithait/tenserFlow-demo/blob/master/tf_clutering.ipynb\" target=\"_parent\"><img src=\"https://colab.research.google.com/assets/colab-badge.svg\" alt=\"Open In Colab\"/></a>"
      ]
    },
    {
      "metadata": {
        "id": "Ubhz9-ysLLmk",
        "colab_type": "code",
        "colab": {
          "base_uri": "https://localhost:8080/",
          "height": 1314
        },
        "outputId": "45112444-562c-4898-d6e5-ce298a8654c8"
      },
      "cell_type": "code",
      "source": [
        "# -*- coding: utf-8 -*-\n",
        "# K-means with TensorFlow\n",
        "#----------------------------------\n",
        "#\n",
        "# This script shows how to do k-means with TensorFlow\n",
        "\n",
        "import numpy as np\n",
        "import matplotlib.pyplot as plt\n",
        "import tensorflow as tf\n",
        "from sklearn import datasets\n",
        "from scipy.spatial import cKDTree\n",
        "from sklearn.decomposition import PCA\n",
        "from sklearn.preprocessing import scale\n",
        "from tensorflow.python.framework import ops\n",
        "ops.reset_default_graph()\n",
        "\n",
        "sess = tf.Session()\n",
        "\n",
        "iris = datasets.load_iris()\n",
        "\n",
        "num_pts = len(iris.data)\n",
        "num_feats = len(iris.data[0])\n",
        "\n",
        "# Set k-means parameters\n",
        "# There are 3 types of iris flowers, see if we can predict them\n",
        "k=3 \n",
        "generations = 25\n",
        "\n",
        "data_points = tf.Variable(iris.data)\n",
        "cluster_labels = tf.Variable(tf.zeros([num_pts], dtype=tf.int64))\n",
        "\n",
        "# Randomly choose starting points\n",
        "rand_starts = np.array([iris.data[np.random.choice(len(iris.data))] for _ in range(k)])\n",
        "\n",
        "centroids = tf.Variable(rand_starts)\n",
        "\n",
        "# In order to calculate the distance between every data point and every centroid, we\n",
        "#  repeat the centroids into a (num_points) by k matrix.\n",
        "centroid_matrix = tf.reshape(tf.tile(centroids, [num_pts, 1]), [num_pts, k, num_feats])\n",
        "# Then we reshape the data points into k (3) repeats\n",
        "point_matrix = tf.reshape(tf.tile(data_points, [1, k]), [num_pts, k, num_feats])\n",
        "distances = tf.reduce_sum(tf.square(point_matrix - centroid_matrix), axis=2)\n",
        "\n",
        "#Find the group it belongs to with tf.argmin()\n",
        "centroid_group = tf.argmin(distances, 1)\n",
        "\n",
        "# Find the group average\n",
        "def data_group_avg(group_ids, data):\n",
        "    # Sum each group\n",
        "    sum_total = tf.unsorted_segment_sum(data, group_ids, 3)\n",
        "    # Count each group\n",
        "    num_total = tf.unsorted_segment_sum(tf.ones_like(data), group_ids, 3)\n",
        "    # Calculate average\n",
        "    avg_by_group = sum_total/num_total\n",
        "    return(avg_by_group)\n",
        "\n",
        "means = data_group_avg(centroid_group, data_points)\n",
        "\n",
        "update = tf.group(centroids.assign(means), cluster_labels.assign(centroid_group))\n",
        "\n",
        "init = tf.global_variables_initializer()\n",
        "\n",
        "sess.run(init)\n",
        "\n",
        "for i in range(generations):\n",
        "    print('Calculating gen {}, out of {}.'.format(i, generations))\n",
        "    _, centroid_group_count = sess.run([update, centroid_group])\n",
        "    group_count = []\n",
        "    for ix in range(k):\n",
        "        group_count.append(np.sum(centroid_group_count==ix))\n",
        "    print('Group counts: {}'.format(group_count))\n",
        "    \n",
        "\n",
        "[centers, assignments] = sess.run([centroids, cluster_labels])\n",
        "\n",
        "# Find which group assignments correspond to which group labels\n",
        "# First, need a most common element function\n",
        "def most_common(my_list):\n",
        "    return(max(set(my_list), key=my_list.count))\n",
        "\n",
        "label0 = most_common(list(assignments[0:50]))\n",
        "label1 = most_common(list(assignments[50:100]))\n",
        "label2 = most_common(list(assignments[100:150]))\n",
        "\n",
        "group0_count = np.sum(assignments[0:50]==label0)\n",
        "group1_count = np.sum(assignments[50:100]==label1)\n",
        "group2_count = np.sum(assignments[100:150]==label2)\n",
        "\n",
        "accuracy = (group0_count + group1_count + group2_count)/150.\n",
        "\n",
        "print('Accuracy: {:.2}'.format(accuracy))\n",
        "\n",
        "# Also plot the output\n",
        "# First use PCA to transform the 4-dimensional data into 2-dimensions\n",
        "pca_model = PCA(n_components=2)\n",
        "reduced_data = pca_model.fit_transform(iris.data)\n",
        "# Transform centers\n",
        "reduced_centers = pca_model.transform(centers)\n",
        "\n",
        "# Step size of mesh for plotting\n",
        "h = .02\n",
        "\n",
        "# Plot the decision boundary. For that, we will assign a color to each\n",
        "x_min, x_max = reduced_data[:, 0].min() - 1, reduced_data[:, 0].max() + 1\n",
        "y_min, y_max = reduced_data[:, 1].min() - 1, reduced_data[:, 1].max() + 1\n",
        "xx, yy = np.meshgrid(np.arange(x_min, x_max, h), np.arange(y_min, y_max, h))\n",
        "\n",
        "# Get k-means classifications for the grid points\n",
        "xx_pt = list(xx.ravel())\n",
        "yy_pt = list(yy.ravel())\n",
        "xy_pts = np.array([[x,y] for x,y in zip(xx_pt, yy_pt)])\n",
        "mytree = cKDTree(reduced_centers)\n",
        "dist, indexes = mytree.query(xy_pts)\n",
        "\n",
        "# Put the result into a color plot\n",
        "indexes = indexes.reshape(xx.shape)\n",
        "plt.figure(1)\n",
        "plt.clf()\n",
        "plt.imshow(indexes, interpolation='nearest',\n",
        "           extent=(xx.min(), xx.max(), yy.min(), yy.max()),\n",
        "           cmap=plt.cm.Paired,\n",
        "           aspect='auto', origin='lower')\n",
        "\n",
        "# Plot each of the true iris data groups\n",
        "symbols = ['o', '^', 'D']\n",
        "label_name = ['Setosa', 'Versicolour', 'Virginica']\n",
        "for i in range(3):\n",
        "    temp_group = reduced_data[(i*50):(50)*(i+1)]\n",
        "    plt.plot(temp_group[:, 0], temp_group[:, 1], symbols[i], markersize=10, label=label_name[i])\n",
        "# Plot the centroids as a white X\n",
        "plt.scatter(reduced_centers[:, 0], reduced_centers[:, 1],\n",
        "            marker='x', s=169, linewidths=3,\n",
        "            color='w', zorder=10)\n",
        "plt.title('K-means clustering on Iris Dataset\\n'\n",
        "          'Centroids are marked with white cross')\n",
        "plt.xlim(x_min, x_max)\n",
        "plt.ylim(y_min, y_max)\n",
        "plt.legend(loc='lower right')\n",
        "plt.show()"
      ],
      "execution_count": 1,
      "outputs": [
        {
          "output_type": "stream",
          "text": [
            "WARNING:tensorflow:From /usr/local/lib/python3.6/dist-packages/tensorflow/python/framework/op_def_library.py:263: colocate_with (from tensorflow.python.framework.ops) is deprecated and will be removed in a future version.\n",
            "Instructions for updating:\n",
            "Colocations handled automatically by placer.\n",
            "Calculating gen 0, out of 25.\n",
            "Group counts: [72, 50, 28]\n",
            "Calculating gen 1, out of 25.\n",
            "Group counts: [65, 50, 35]\n",
            "Calculating gen 2, out of 25.\n",
            "Group counts: [62, 50, 38]\n",
            "Calculating gen 3, out of 25.\n",
            "Group counts: [62, 50, 38]\n",
            "Calculating gen 4, out of 25.\n",
            "Group counts: [62, 50, 38]\n",
            "Calculating gen 5, out of 25.\n",
            "Group counts: [62, 50, 38]\n",
            "Calculating gen 6, out of 25.\n",
            "Group counts: [62, 50, 38]\n",
            "Calculating gen 7, out of 25.\n",
            "Group counts: [62, 50, 38]\n",
            "Calculating gen 8, out of 25.\n",
            "Group counts: [62, 50, 38]\n",
            "Calculating gen 9, out of 25.\n",
            "Group counts: [62, 50, 38]\n",
            "Calculating gen 10, out of 25.\n",
            "Group counts: [62, 50, 38]\n",
            "Calculating gen 11, out of 25.\n",
            "Group counts: [62, 50, 38]\n",
            "Calculating gen 12, out of 25.\n",
            "Group counts: [62, 50, 38]\n",
            "Calculating gen 13, out of 25.\n",
            "Group counts: [62, 50, 38]\n",
            "Calculating gen 14, out of 25.\n",
            "Group counts: [62, 50, 38]\n",
            "Calculating gen 15, out of 25.\n",
            "Group counts: [62, 50, 38]\n",
            "Calculating gen 16, out of 25.\n",
            "Group counts: [62, 50, 38]\n",
            "Calculating gen 17, out of 25.\n",
            "Group counts: [62, 50, 38]\n",
            "Calculating gen 18, out of 25.\n",
            "Group counts: [62, 50, 38]\n",
            "Calculating gen 19, out of 25.\n",
            "Group counts: [62, 50, 38]\n",
            "Calculating gen 20, out of 25.\n",
            "Group counts: [62, 50, 38]\n",
            "Calculating gen 21, out of 25.\n",
            "Group counts: [62, 50, 38]\n",
            "Calculating gen 22, out of 25.\n",
            "Group counts: [62, 50, 38]\n",
            "Calculating gen 23, out of 25.\n",
            "Group counts: [62, 50, 38]\n",
            "Calculating gen 24, out of 25.\n",
            "Group counts: [62, 50, 38]\n",
            "Accuracy: 0.89\n"
          ],
          "name": "stdout"
        },
        {
          "output_type": "display_data",
          "data": {
            "image/png": "[encoded data removed]",
            "text/plain": [
              "<Figure size 576x396 with 1 Axes>"
            ]
          },
          "metadata": {
            "tags": []
          }
        }
      ]
    },
    {
      "metadata": {
        "id": "iRaKa4ErLj6u",
        "colab_type": "code",
        "colab": {}
      },
      "cell_type": "code",
      "source": [
        ""
      ],
      "execution_count": 0,
      "outputs": []
    },
    {
      "metadata": {
        "id": "wx22fox3L6sA",
        "colab_type": "code",
        "colab": {}
      },
      "cell_type": "code",
      "source": [
        ""
      ],
      "execution_count": 0,
      "outputs": []
    },
    {
      "metadata": {
        "id": "nkBUDYyJL7Mc",
        "colab_type": "code",
        "colab": {}
      },
      "cell_type": "code",
      "source": [
        ""
      ],
      "execution_count": 0,
      "outputs": []
    },
    {
      "metadata": {
        "id": "Ae-GM3ZtMI2k",
        "colab_type": "code",
        "colab": {}
      },
      "cell_type": "code",
      "source": [
        ""
      ],
      "execution_count": 0,
      "outputs": []
    }
  ]
}